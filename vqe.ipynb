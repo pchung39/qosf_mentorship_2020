{
 "cells": [
  {
   "cell_type": "markdown",
   "metadata": {},
   "source": [
    "# QOSF Mentorship: Task 4\n",
    "\n",
    "To review, the objective of Task 4 was to create a VQE-like circuit from scratch and use this circuit to find the lowest eigenvalue state of the following matrix:\n",
    "\n",
    "$$\\begin{bmatrix} 1 & 0 & 0 & 0 \\\\ 0 & 0 & -1 & 0 \\\\ 0 & -1 & 0 & 0 \\\\ 0 & 0 & 0 & 1 \\end{bmatrix}$$\n",
    "\n",
    "In order to create this VQE circuit from scratch, we will need to complete the following parts:\n",
    "\n",
    "    1. Decompose our Hamiltonian \n",
    "    2. Create quantum circuit \n",
    "         1. Insert ansatz\n",
    "         2. Insert (applicable) pre-measurement rotations\n",
    "         3. Measure!\n",
    "    3. Calculate expectation values \n",
    "    4. Return lowest eigenvalue state\n",
    "\n",
    "Alright, we have a plan, let's get to it!\n",
    "\n",
    "(sidenote: this notebook will not touch on every VQE concept except the ones that are relevant to each step, for a more detailed look into the mechanics of VQE check out one of the wonderful sources below)\n",
    "\n",
    "https://www.mustythoughts.com/variational-quantum-eigensolver-explained\n",
    "\n",
    "https://github.com/DavitKhach/quantum-algorithms-tutorials/blob/master/variational_quantum_eigensolver.ipynb\n",
    "\n"
   ]
  },
  {
   "cell_type": "code",
   "execution_count": 15,
   "metadata": {},
   "outputs": [],
   "source": [
    "from vqe import VQE\n",
    "import numpy as np\n",
    "import matplotlib.pyplot as plt\n",
    "from qiskit.aqua.operators import WeightedPauliOperator"
   ]
  },
  {
   "cell_type": "markdown",
   "metadata": {},
   "source": [
    "## Step 1: Decompose our Hamiltonian\n",
    "\n",
    "We can't simply throw a hamiltonian of any size into our VQE circuit and calculate the lowest eigenvalue state. That would be like trying to eat an entire XL pizza in one bite. Instead, we want to break up the Hamiltonian into a sum of Pauli matrices, or in this 2-qubit case, the sum of tensored product of Pauli matrices.\n",
    "\n",
    "For this task we are allowed to decompose our Hamiltonian into four distinct states (II, XX, YY, and ZZ). We can imagine our generalized Hamiltonian decomposed into its constituent tensored Pauli matrices like so:\n",
    "\n",
    "$$H = a (I \\otimes I)  +  b (\\sigma_x \\otimes \\sigma_x)  +  c (\\sigma_y \\otimes \\sigma_y)  +  d (\\sigma_z \\otimes \\sigma_z) $$\n",
    "\n",
    "The a, b, c, d values are coefficients for each decomposed matrix and work as a \"weight\" when multiplied by the expectation value. \n",
    "\n",
    "In order to decompose our hamiltonian we need to calculate the trace of each tensored pauli matrix above. We can do that by applying the trace formula to each pauli matrix in the hamiltonian:\n",
    "\n",
    "$$ h_{ij} = \\dfrac{1}{4} (\\sigma_i \\otimes \\sigma_j * H)$$\n",
    "\n",
    "For example, the trace for $\\sigma_z \\otimes \\sigma_z$ is 0.5 as shown below:\n",
    "\n",
    "$$ h_{zz} = \\dfrac{1}{4} tr(\\sigma_z \\otimes \\sigma_z * H)$$\n",
    "\n",
    "$$ h_{zz} = \\dfrac{1}{4} tr(\\begin{bmatrix} 1 & 0 & 0 & 0 \\\\ 0 & -1 & 0 & 0 \\\\ 0 & 0 & -1 & 0 \\\\ 0 & 0 & 0 & 1 \\end{bmatrix} * \\begin{bmatrix} 1 & 0 & 0 & 0 \\\\ 0 & 0 & -1 & 0 \\\\ 0 & -1 & 0 & 0 \\\\ 0 & 0 & 0 & 1 \\end{bmatrix})$$\n",
    "\n",
    "$$ h_{zz} = \\dfrac{1}{4} tr(\\begin{bmatrix} 1 & 0 & 0 & 0 \\\\ 0 & 0 & 1 & 0 \\\\ 0 & 1 & 0 & 0 \\\\ 0 & 0 & 0 & 1 \\end{bmatrix})$$\n",
    "\n",
    "$$ h_{zz} = \\dfrac{1}{4} * 2$$\n",
    "\n",
    "$$ h_{zz} = 0.5$$\n",
    "\n",
    "\n",
    "We repeat this process with $(\\sigma_x \\otimes \\sigma_x)$, $(\\sigma_y \\otimes \\sigma_y)$, and $(I \\otimes I)$: \n",
    "\n",
    "$$ h_{zz} = 0.5 \\qquad h_{ii} = 0.5 \\qquad h_{yy} = -0.5 \\qquad h_{xx} = -0.5$$\n",
    "\n",
    "\n",
    "Putting all these pieces together, we have now decomposed our hamiltonian into Pauli matrices which means that we are ready to calculate our ground state using our VQE circuit.\n",
    "    \n",
    "$$H = 0.5 (I \\otimes I)  -  0.5 (\\sigma_x \\otimes \\sigma_x)  -  0.5 (\\sigma_y \\otimes \\sigma_y)  +  0.5 (\\sigma_z \\otimes \\sigma_z) $$\n",
    "\n",
    "You can decompose hamiltonians with ease using the snippet below:"
   ]
  },
  {
   "cell_type": "code",
   "execution_count": 2,
   "metadata": {},
   "outputs": [
    {
     "name": "stdout",
     "output_type": "stream",
     "text": [
      "{'II': (0.5+0j), 'XX': (-0.5+0j), 'YY': (-0.5+0j), 'ZZ': (0.5+0j)}\n"
     ]
    }
   ],
   "source": [
    "ham = np.array([[1, 0, 0, 0], [0, 0, -1, 0], [0, -1, 0, 0], [0, 0, 0, 1]])\n",
    "vqe = VQE(shots=1000, angle_range=np.linspace(0, 2 * np.pi, 20))\n",
    "print(vqe.decompose_hamiltonian(hamiltonian=ham))"
   ]
  },
  {
   "cell_type": "markdown",
   "metadata": {},
   "source": [
    "## Step 2: Create VQE Circuit\n",
    "\n",
    "Before we dive straight into the circuit specifics, I believe it's worthwhile getting a understanding of the overall process of the VQE algorithm. \n",
    "\n",
    "    1. Determine an initial value for theta\n",
    "    2. Run simulator for theta \n",
    "    3. Use simulator results to calculate expectation values \n",
    "    4. Use expectation values to calculate ground state\n",
    "    5. Choose another value for theta and repeat steps 1 - 4 until full range of theta has been calculated.\n",
    "    6. Lowest value for theta will be calculated ground state\n",
    "\n",
    "![overview](images/overview.PNG)\n",
    "\n",
    "As we tweak the value of our parameter theta, we get a different ground state value from our VQE algorithm. Our objective is to find the lowest eigenvalue by manipulating the value of theta. (Observant readers will recognize an opportunity to optimize this process, but that is a topic for another time!) Thanks to the Variational principle we know that whatever theta we provide to our VQE algorithm will never be lower than the lowest eigenvalue but slowly approach it. This fact underpins the effectiveness (and the correctness) of this algorithm. \n",
    "\n",
    "    \n",
    "![ground](images/ground_state.PNG)\n",
    "\n",
    "Our VQE circuit is composed of three distinct stages. First is the ansatz, second, is the pre-measurement rotations and third is the measurements. \n",
    "\n",
    "\n",
    "### The Ansatz\n",
    "\n",
    "Our ansatz consists of three gates the Hadamard gate (acting on the 1st qubit), the 2-qubit CNOT gate, and the parametrized $RX(\\theta)$ gate (acting on the first qubit). The ansatz allows us to trasform our initial 00 state into the arbitrary state $\\left| \\psi \\right\\rangle$.  \n",
    "    \n",
    "    \n",
    "### The Pre-measurement rotations \n",
    "\n",
    "A crucial step before we measure our qubits is to apply pre-measurement rotations. Why do we need to do this? We conduct all measurements in the Z axis in order to get results in the computational basis vectors 0 and 1. So this brings up the question of what to do if we have psi states along the X and Y axes. When we measure in the X axis we perform a $RY(-\\pi/2)$ rotation, and we perform a $RX(\\pi/2)$ rotation when measuring in the Y axis. No rotations need to be applied when measuring in the Z axis. Because of these differences our quantum circuit can look different considering which axis we are measuring in. To demonstrate the differences in the circuits, the next 3 boxes are \n",
    "    \n",
    "<insert 3 circuit diagrams>\n",
    "    \n",
    "## Measurement \n",
    "    \n",
    "Finally, we measure! Since this is a two qubit gate, we store the outcome of qubit 1 on a classical bit 1 and the outcome of qubit 2 onto classical bit 2. Therefore our results can be at most spread across 4 possible, 2-qubit states:  00, 01, 10, 11. \n",
    "\n",
    "Due to our pre-measurement rotations we can calculate all our measurements on the state ZZ. Recall that quantum  measurements take the form: $$\\left\\langle \\psi \\right| \\sigma_z \\otimes \\sigma_z \\left| \\psi \\right\\rangle$$\n",
    "\n",
    "We can interpret measurement by calculating the generalized measurement with our four possible state to determine whether we end up with a 1 or a -1\n",
    "\n",
    "$$\\left\\langle 00 \\right| \\sigma_z \\otimes \\sigma_z \\left| 00 \\right\\rangle \\qquad \\left\\langle 01 \\right| \\sigma_z \\otimes \\sigma_z \\left| 01 \\right\\rangle \\qquad \\left\\langle 10 \\right| \\sigma_z \\otimes \\sigma_z \\left| 10 \\right\\rangle \\qquad \\left\\langle 11 \\right| \\sigma_z \\otimes \\sigma_z \\left| 11 \\right\\rangle \\qquad$$\n",
    "\n",
    "Let's quickly do the calculations here:\n",
    "\n",
    "$$ \\left\\langle 00 \\right| \\sigma_z \\otimes \\sigma_z \\left| 00 \\right\\rangle = \\left\\langle 00 \\right| \\begin{bmatrix} 1 & 0 & 0 & 0 \\\\ 0 & -1 & 0 & 0 \\\\ 0 & 0 & -1 & 0 \\\\ 0 & 0 & 0 & 1 \\end{bmatrix} \\left| 00 \\right\\rangle \\qquad \\left\\langle 01 \\right| \\sigma_z \\otimes \\sigma_z \\left| 01 \\right\\rangle = \\left\\langle 01 \\right| \\begin{bmatrix} 1 & 0 & 0 & 0 \\\\ 0 & -1 & 0 & 0 \\\\ 0 & 0 & -1 & 0 \\\\ 0 & 0 & 0 & 1 \\end{bmatrix} \\left| 01 \\right\\rangle \\qquad \\left\\langle 10 \\right| \\sigma_z \\otimes \\sigma_z \\left| 10 \\right\\rangle = \\left\\langle 10 \\right| \\begin{bmatrix} 1 & 0 & 0 & 0 \\\\ 0 & -1 & 0 & 0 \\\\ 0 & 0 & -1 & 0 \\\\ 0 & 0 & 0 & 1 \\end{bmatrix} \\left| 10 \\right\\rangle \\qquad \\left\\langle 11 \\right| \\sigma_z \\otimes \\sigma_z \\left| 11 \\right\\rangle = \\left\\langle 11 \\right| \\begin{bmatrix} 1 & 0 & 0 & 0 \\\\ 0 & -1 & 0 & 0 \\\\ 0 & 0 & -1 & 0 \\\\ 0 & 0 & 0 & 1 \\end{bmatrix} \\left| 11 \\right\\rangle$$\n",
    "\n",
    "$$ \\left\\langle 00 \\right| \\sigma_z \\otimes \\sigma_z \\left| 00 \\right\\rangle = 1 \\qquad \\left\\langle 01 \\right| \\sigma_z \\otimes \\sigma_z \\left| 01 \\right\\rangle = -1 \\qquad \\left\\langle 10 \\right| \\sigma_z \\otimes \\sigma_z \\left| 10 \\right\\rangle = -1 \\qquad \\left\\langle 11 \\right| \\sigma_z \\otimes \\sigma_z \\left| 11 \\right\\rangle = 1 $$\n"
   ]
  },
  {
   "cell_type": "code",
   "execution_count": 9,
   "metadata": {},
   "outputs": [
    {
     "data": {
      "image/png": "[encoded data removed]",
      "text/plain": [
       "<Figure size 575.303x204.68 with 1 Axes>"
      ]
     },
     "execution_count": 9,
     "metadata": {},
     "output_type": "execute_result"
    }
   ],
   "source": [
    "vqe = VQE(shots=1000, angle_range=np.linspace(0, 2 * np.pi, 20))\n",
    "circuit = vqe.generate_circuit(\"Z\")\n",
    "circuit.draw(\"mpl\")"
   ]
  },
  {
   "cell_type": "code",
   "execution_count": 6,
   "metadata": {},
   "outputs": [
    {
     "data": {
      "image/png": "[encoded data removed]",
      "text/plain": [
       "<Figure size 635.213x204.68 with 1 Axes>"
      ]
     },
     "execution_count": 6,
     "metadata": {},
     "output_type": "execute_result"
    }
   ],
   "source": [
    "vqe = VQE(shots=1000, angle_range=np.linspace(0, 2 * np.pi, 20))\n",
    "circuit = vqe.generate_circuit(\"X\")\n",
    "circuit.draw(\"mpl\")"
   ]
  },
  {
   "cell_type": "code",
   "execution_count": 7,
   "metadata": {},
   "outputs": [
    {
     "data": {
      "image/png": "[encoded data removed]",
      "text/plain": [
       "<Figure size 635.358x204.68 with 1 Axes>"
      ]
     },
     "execution_count": 7,
     "metadata": {},
     "output_type": "execute_result"
    }
   ],
   "source": [
    "vqe = VQE(shots=1000, angle_range=np.linspace(0, 2 * np.pi, 20))\n",
    "circuit = vqe.generate_circuit(\"Y\")\n",
    "circuit.draw(\"mpl\")"
   ]
  },
  {
   "cell_type": "markdown",
   "metadata": {},
   "source": [
    "## Step 3: Calculate Expectation Values \n",
    "\n",
    "At this point our quantum simulator has run a 1000 executions and has provided us with the results, something like this:\n",
    "\n",
    "```\n",
    "    { \"00\": 497, \"01\": 14, \"10\": 17, \"11\": 472 }\n",
    "```\n",
    "\n",
    "The calculation of the expectation value is average of the result sum. Let $E$ be the expectation value and $C$ be the total shots. \n",
    "\n",
    "$$E = \\dfrac{C_{00} - C_{01} - C_{10} + C_{11}}{total shots}$$\n",
    "\n",
    "Expectation values are calculated in the Z axis. \n",
    "\n",
    "Let's quickly review what 2-qubit measurements in the Z axis looks like:\n",
    "\n",
    "<insert formula>\n",
    "\n",
    "\n",
    "Below are some runs for measurements made on the Z, Y, X basis\n"
   ]
  },
  {
   "cell_type": "code",
   "execution_count": 7,
   "metadata": {},
   "outputs": [
    {
     "name": "stdout",
     "output_type": "stream",
     "text": [
      "Expectation value for ZZ:  1.0\n"
     ]
    }
   ],
   "source": [
    "vqe = VQE(angle_range=np.linspace(0, 2 * np.pi, 20))\n",
    "circuit = vqe.generate_circuit(\"Z\")\n",
    "results = vqe.execute_measurement(circuit)\n",
    "print(\"Expectation value for ZZ: \", vqe.calculate_expectation_values(results, \"Z\"))"
   ]
  },
  {
   "cell_type": "code",
   "execution_count": 8,
   "metadata": {},
   "outputs": [
    {
     "name": "stdout",
     "output_type": "stream",
     "text": [
      "Expectation value for XX:  1.0\n"
     ]
    }
   ],
   "source": [
    "vqe = VQE(angle_range=np.linspace(0, 2 * np.pi, 20))\n",
    "circuit = vqe.generate_circuit(\"X\")\n",
    "results = vqe.execute_measurement(circuit)\n",
    "print(\"Expectation value for XX: \", vqe.calculate_expectation_values(results, \"X\"))"
   ]
  },
  {
   "cell_type": "code",
   "execution_count": 9,
   "metadata": {},
   "outputs": [
    {
     "name": "stdout",
     "output_type": "stream",
     "text": [
      "Expectation value for YY:  -1.0\n"
     ]
    }
   ],
   "source": [
    "vqe = VQE(angle_range=np.linspace(0, 2 * np.pi, 20))\n",
    "circuit = vqe.generate_circuit(\"Y\")\n",
    "results = vqe.execute_measurement(circuit)\n",
    "print(\"Expectation value for YY: \", vqe.calculate_expectation_values(results, \"Y\"))"
   ]
  },
  {
   "cell_type": "markdown",
   "metadata": {},
   "source": [
    "## Step 4: Return Lowest Eigenvalue\n",
    "\n",
    "We return all the way back to where we started, to our decomposed Hamiltonian \n",
    "\n",
    "$$H = 0.5 (I \\otimes I)  -  0.5 (\\sigma_x \\otimes \\sigma_x)  -  0.5 (\\sigma_y \\otimes \\sigma_y)  +  0.5 (\\sigma_z \\otimes \\sigma_z) $$\n",
    "\n",
    "For a given theta, executing step 1 through step 4 of our process provides us with a value for each part of this decomposed Hamiltonian. These values are summed, giving us the ground state for the given theta. At this point, the VQE algorithm will provide another value for theta and repeat this process generating a unique ground state value for this new theta. Rinse and repeat. Since there is no classical optimizer we simply step through each theta value in the provided array and loop through each one.\n",
    "\n",
    "In order to find the lowest eigenvalue (the ground state) we use the `min()` Python function to identify that lowest value in the list.\n"
   ]
  },
  {
   "cell_type": "markdown",
   "metadata": {},
   "source": [
    "## Putting the pieces together\n",
    "\n",
    "Now that we have thoroughly outlined the process, we now execute the VQE algorithm to find the lowest eigenvalue for the matrix provided at the beginning of this document. \n",
    "\n",
    "Let's run our VQE algorithm!\n",
    "\n",
    "Before we run our quantum algorithm, let's run the classical one to get a baseline for the ground state of the matrix.\n"
   ]
  },
  {
   "cell_type": "code",
   "execution_count": 16,
   "metadata": {},
   "outputs": [
    {
     "ename": "NameError",
     "evalue": "name 'WeightedPauliOperator' is not defined",
     "output_type": "error",
     "traceback": [
      "\u001b[0;31m---------------------------------------------------------------------------\u001b[0m",
      "\u001b[0;31mNameError\u001b[0m                                 Traceback (most recent call last)",
      "\u001b[0;32m<ipython-input-16-226b158bd81b>\u001b[0m in \u001b[0;36m<module>\u001b[0;34m\u001b[0m\n\u001b[1;32m      1\u001b[0m \u001b[0mvqe\u001b[0m \u001b[0;34m=\u001b[0m \u001b[0mVQE\u001b[0m\u001b[0;34m(\u001b[0m\u001b[0mangle_range\u001b[0m\u001b[0;34m=\u001b[0m\u001b[0mnp\u001b[0m\u001b[0;34m.\u001b[0m\u001b[0mlinspace\u001b[0m\u001b[0;34m(\u001b[0m\u001b[0;36m0\u001b[0m\u001b[0;34m,\u001b[0m \u001b[0;36m2\u001b[0m \u001b[0;34m*\u001b[0m \u001b[0mnp\u001b[0m\u001b[0;34m.\u001b[0m\u001b[0mpi\u001b[0m\u001b[0;34m,\u001b[0m \u001b[0;36m20\u001b[0m\u001b[0;34m)\u001b[0m\u001b[0;34m)\u001b[0m\u001b[0;34m\u001b[0m\u001b[0;34m\u001b[0m\u001b[0m\n\u001b[0;32m----> 2\u001b[0;31m \u001b[0mvqe\u001b[0m\u001b[0;34m.\u001b[0m\u001b[0mrun_classical_eigensolver\u001b[0m\u001b[0;34m(\u001b[0m\u001b[0;36m0.5\u001b[0m\u001b[0;34m,\u001b[0m \u001b[0;36m0.5\u001b[0m\u001b[0;34m,\u001b[0m \u001b[0;34m-\u001b[0m\u001b[0;36m0.5\u001b[0m\u001b[0;34m,\u001b[0m \u001b[0;34m-\u001b[0m\u001b[0;36m0.5\u001b[0m\u001b[0;34m)\u001b[0m\u001b[0;34m\u001b[0m\u001b[0;34m\u001b[0m\u001b[0m\n\u001b[0m",
      "\u001b[0;32m~/Desktop/qosf_mentorship_2020/vqe.py\u001b[0m in \u001b[0;36mrun_classical_eigensolver\u001b[0;34m(self, a, b, c, d)\u001b[0m\n\u001b[1;32m     62\u001b[0m                     ]\n\u001b[1;32m     63\u001b[0m         }\n\u001b[0;32m---> 64\u001b[0;31m         \u001b[0mhamiltonian\u001b[0m \u001b[0;34m=\u001b[0m \u001b[0mWeightedPauliOperator\u001b[0m\u001b[0;34m.\u001b[0m\u001b[0mfrom_dict\u001b[0m\u001b[0;34m(\u001b[0m\u001b[0mpauli_dict\u001b[0m\u001b[0;34m)\u001b[0m\u001b[0;34m\u001b[0m\u001b[0;34m\u001b[0m\u001b[0m\n\u001b[0m\u001b[1;32m     65\u001b[0m         \u001b[0mexact_result\u001b[0m \u001b[0;34m=\u001b[0m \u001b[0mNumPyEigensolver\u001b[0m\u001b[0;34m(\u001b[0m\u001b[0mhamiltonian\u001b[0m\u001b[0;34m)\u001b[0m\u001b[0;34m.\u001b[0m\u001b[0mrun\u001b[0m\u001b[0;34m(\u001b[0m\u001b[0;34m)\u001b[0m\u001b[0;34m\u001b[0m\u001b[0;34m\u001b[0m\u001b[0m\n\u001b[1;32m     66\u001b[0m         \u001b[0mreference_energy\u001b[0m \u001b[0;34m=\u001b[0m \u001b[0mmin\u001b[0m\u001b[0;34m(\u001b[0m\u001b[0mnp\u001b[0m\u001b[0;34m.\u001b[0m\u001b[0mreal\u001b[0m\u001b[0;34m(\u001b[0m\u001b[0mexact_result\u001b[0m\u001b[0;34m.\u001b[0m\u001b[0meigenvalues\u001b[0m\u001b[0;34m)\u001b[0m\u001b[0;34m)\u001b[0m\u001b[0;34m\u001b[0m\u001b[0;34m\u001b[0m\u001b[0m\n",
      "\u001b[0;31mNameError\u001b[0m: name 'WeightedPauliOperator' is not defined"
     ]
    }
   ],
   "source": [
    "vqe = VQE(angle_range=np.linspace(0, 2 * np.pi, 20))\n",
    "vqe.run_classical_eigensolver(0.5, 0.5, -0.5, -0.5)"
   ]
  },
  {
   "cell_type": "code",
   "execution_count": 10,
   "metadata": {},
   "outputs": [
    {
     "name": "stdout",
     "output_type": "stream",
     "text": [
      "Ground state: -0.988\n",
      "Angle (theta) for ground state:  2.9762456718219092\n"
     ]
    }
   ],
   "source": [
    "vqe = VQE(angle_range=np.linspace(0, 2 * np.pi, 20))\n",
    "vqe.find_ground_state()"
   ]
  },
  {
   "cell_type": "markdown",
   "metadata": {},
   "source": [
    "## Notes on implementation approach and the response object\n",
    "\n",
    "Running `vqe.decompose_hamiltonian()` will output the ground state as well as the angle (theta) that corresponds to the ground state. However, running the `decompose_hamiltonian()` function actually stores a vast array of data that is useful and structured. \n",
    "\n",
    "After running `vqe.decompose_hamiltonian()` the user can then run `vqe.return_vqe_info()` to receive a JSON object with the following data.\n",
    "\n",
    "In order to get an entry for `classical_ground_state`, run `vqe.run_classical_eigensolver()` and \n"
   ]
  },
  {
   "cell_type": "code",
   "execution_count": 11,
   "metadata": {},
   "outputs": [
    {
     "name": "stdout",
     "output_type": "stream",
     "text": [
      "Ground state: -0.988\n",
      "Angle (theta) for ground state:  2.9762456718219092\n",
      "{\n",
      "    \"estimated_energy\": {\n",
      "        \"0.0\": 1.0,\n",
      "        \"0.3306939635357677\": 0.948,\n",
      "        \"0.6613879270715354\": 0.792,\n",
      "        \"0.992081890607303\": 0.5549999999999999,\n",
      "        \"1.3227758541430708\": 0.23399999999999999,\n",
      "        \"1.6534698176788385\": -0.06500000000000006,\n",
      "        \"1.984163781214606\": -0.43399999999999994,\n",
      "        \"2.3148577447503738\": -0.677,\n",
      "        \"2.6455517082861415\": -0.883,\n",
      "        \"2.9762456718219092\": -0.988,\n",
      "        \"3.306939635357677\": -0.988,\n",
      "        \"3.6376335988934447\": -0.885,\n",
      "        \"3.968327562429212\": -0.6949999999999998,\n",
      "        \"4.29902152596498\": -0.353,\n",
      "        \"4.6297154895007475\": -0.039000000000000035,\n",
      "        \"4.960409453036515\": 0.236,\n",
      "        \"5.291103416572283\": 0.515,\n",
      "        \"5.621797380108051\": 0.778,\n",
      "        \"5.9524913436438185\": 0.928,\n",
      "        \"6.283185307179586\": 1.0\n",
      "    },\n",
      "    \"simulator_results\": {\n",
      "        \"0.0\": {\n",
      "            \"Z\": {\n",
      "                \"00\": 516,\n",
      "                \"11\": 484\n",
      "            }\n",
      "        },\n",
      "        \"0.3306939635357677\": {\n",
      "            \"Z\": {\n",
      "                \"00\": 491,\n",
      "                \"01\": 13,\n",
      "                \"10\": 11,\n",
      "                \"11\": 485\n",
      "            }\n",
      "        },\n",
      "        \"0.6613879270715354\": {\n",
      "            \"Z\": {\n",
      "                \"00\": 457,\n",
      "                \"01\": 61,\n",
      "                \"10\": 48,\n",
      "                \"11\": 434\n",
      "            }\n",
      "        },\n",
      "        \"0.992081890607303\": {\n",
      "            \"Z\": {\n",
      "                \"00\": 382,\n",
      "                \"01\": 131,\n",
      "                \"10\": 109,\n",
      "                \"11\": 378\n",
      "            }\n",
      "        },\n",
      "        \"1.3227758541430708\": {\n",
      "            \"Z\": {\n",
      "                \"00\": 297,\n",
      "                \"01\": 187,\n",
      "                \"10\": 207,\n",
      "                \"11\": 309\n",
      "            }\n",
      "        },\n",
      "        \"1.6534698176788385\": {\n",
      "            \"Z\": {\n",
      "                \"00\": 235,\n",
      "                \"01\": 266,\n",
      "                \"10\": 267,\n",
      "                \"11\": 232\n",
      "            }\n",
      "        },\n",
      "        \"1.984163781214606\": {\n",
      "            \"Z\": {\n",
      "                \"00\": 144,\n",
      "                \"01\": 375,\n",
      "                \"10\": 350,\n",
      "                \"11\": 131\n",
      "            }\n",
      "        },\n",
      "        \"2.3148577447503738\": {\n",
      "            \"Z\": {\n",
      "                \"00\": 78,\n",
      "                \"01\": 431,\n",
      "                \"10\": 398,\n",
      "                \"11\": 93\n",
      "            }\n",
      "        },\n",
      "        \"2.6455517082861415\": {\n",
      "            \"Z\": {\n",
      "                \"00\": 32,\n",
      "                \"01\": 461,\n",
      "                \"10\": 483,\n",
      "                \"11\": 24\n",
      "            }\n",
      "        },\n",
      "        \"2.9762456718219092\": {\n",
      "            \"Z\": {\n",
      "                \"00\": 3,\n",
      "                \"01\": 505,\n",
      "                \"10\": 489,\n",
      "                \"11\": 3\n",
      "            }\n",
      "        },\n",
      "        \"3.306939635357677\": {\n",
      "            \"Z\": {\n",
      "                \"00\": 3,\n",
      "                \"01\": 524,\n",
      "                \"10\": 469,\n",
      "                \"11\": 4\n",
      "            }\n",
      "        },\n",
      "        \"3.6376335988934447\": {\n",
      "            \"Z\": {\n",
      "                \"00\": 26,\n",
      "                \"01\": 468,\n",
      "                \"10\": 479,\n",
      "                \"11\": 27\n",
      "            }\n",
      "        },\n",
      "        \"3.968327562429212\": {\n",
      "            \"Z\": {\n",
      "                \"00\": 78,\n",
      "                \"01\": 421,\n",
      "                \"10\": 428,\n",
      "                \"11\": 73\n",
      "            }\n",
      "        },\n",
      "        \"4.29902152596498\": {\n",
      "            \"Z\": {\n",
      "                \"00\": 147,\n",
      "                \"01\": 337,\n",
      "                \"10\": 343,\n",
      "                \"11\": 173\n",
      "            }\n",
      "        },\n",
      "        \"4.6297154895007475\": {\n",
      "            \"Z\": {\n",
      "                \"00\": 263,\n",
      "                \"01\": 247,\n",
      "                \"10\": 265,\n",
      "                \"11\": 225\n",
      "            }\n",
      "        },\n",
      "        \"4.960409453036515\": {\n",
      "            \"Z\": {\n",
      "                \"00\": 287,\n",
      "                \"01\": 191,\n",
      "                \"10\": 220,\n",
      "                \"11\": 302\n",
      "            }\n",
      "        },\n",
      "        \"5.291103416572283\": {\n",
      "            \"Z\": {\n",
      "                \"00\": 366,\n",
      "                \"01\": 120,\n",
      "                \"10\": 122,\n",
      "                \"11\": 392\n",
      "            }\n",
      "        },\n",
      "        \"5.621797380108051\": {\n",
      "            \"Z\": {\n",
      "                \"00\": 456,\n",
      "                \"01\": 63,\n",
      "                \"10\": 60,\n",
      "                \"11\": 421\n",
      "            }\n",
      "        },\n",
      "        \"5.9524913436438185\": {\n",
      "            \"Z\": {\n",
      "                \"00\": 500,\n",
      "                \"01\": 16,\n",
      "                \"10\": 18,\n",
      "                \"11\": 466\n",
      "            }\n",
      "        },\n",
      "        \"6.283185307179586\": {\n",
      "            \"Z\": {\n",
      "                \"00\": 479,\n",
      "                \"11\": 521\n",
      "            }\n",
      "        }\n",
      "    },\n",
      "    \"decomposed_hamiltonian\": {},\n",
      "    \"vqe_ground_state\": -0.988,\n",
      "    \"ground_state_theta\": \"2.9762456718219092\"\n",
      "}\n"
     ]
    }
   ],
   "source": [
    "vqe = VQE(angle_range=np.linspace(0, 2 * np.pi, 20))\n",
    "vqe.find_ground_state()\n",
    "print(vqe.return_vqe_info())"
   ]
  },
  {
   "cell_type": "markdown",
   "metadata": {},
   "source": [
    "The idea for this came through my own struggles with trying to debug or create useful graphs/visualizations when the only data point coming back was a single value for the ground state. With this JSON object users have the flexibility to feed this structured data into their own functions to work with the data in a predictable fasion."
   ]
  },
  {
   "cell_type": "code",
   "execution_count": null,
   "metadata": {},
   "outputs": [],
   "source": []
  }
 ],
 "metadata": {
  "kernelspec": {
   "display_name": "Python 3",
   "language": "python",
   "name": "python3"
  },
  "language_info": {
   "codemirror_mode": {
    "name": "ipython",
    "version": 3
   },
   "file_extension": ".py",
   "mimetype": "text/x-python",
   "name": "python",
   "nbconvert_exporter": "python",
   "pygments_lexer": "ipython3",
   "version": "3.7.7"
  }
 },
 "nbformat": 4,
 "nbformat_minor": 4
}
